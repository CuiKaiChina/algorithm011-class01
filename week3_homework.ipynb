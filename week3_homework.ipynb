{
 "cells": [
  {
   "cell_type": "markdown",
   "metadata": {},
   "source": [
    "### 236. 二叉树的最近公共祖先"
   ]
  },
  {
   "cell_type": "code",
   "execution_count": null,
   "metadata": {},
   "outputs": [],
   "source": [
    "class Solution:\n",
    "    def lowestCommonAncestor(self, root: 'TreeNode', p: 'TreeNode', q: 'TreeNode') -> 'TreeNode':\n",
    "        if root in (p,q):\n",
    "            return root \n",
    "        left = right = None\n",
    "        if root.left:\n",
    "            left = self.lowestCommonAncestor(root.left,p ,q)\n",
    "        if root.right:\n",
    "            right = self.lowestCommonAncestor(root.right, p, q)\n",
    "        if left and right:\n",
    "            return root \n",
    "        else:\n",
    "            return left or right"
   ]
  },
  {
   "cell_type": "markdown",
   "metadata": {},
   "source": [
    "### 105. 从前序与中序遍历序列构造二叉树"
   ]
  },
  {
   "cell_type": "code",
   "execution_count": null,
   "metadata": {},
   "outputs": [],
   "source": [
    "class Solution:\n",
    "    def buildTree(self, preorder: List[int], inorder: List[int]) -> TreeNode:\n",
    "        if inorder:\n",
    "            ind = inorder.index(preorder.pop(0))\n",
    "            root = TreeNode(inorder[ind])\n",
    "            root.left = self.buildTree(preorder,inorder[:ind])\n",
    "            root.right = self.buildTree(preorder,inorder[ind + 1:])\n",
    "            return root"
   ]
  },
  {
   "cell_type": "markdown",
   "metadata": {},
   "source": [
    "### 77. 组合"
   ]
  },
  {
   "cell_type": "code",
   "execution_count": null,
   "metadata": {},
   "outputs": [],
   "source": [
    "from itertools import combinations\n",
    "class Solution:\n",
    "    def combine(self, n: int, k: int) -> List[List[int]]:\n",
    "        return list(combinations(range(1,n + 1),k))"
   ]
  },
  {
   "cell_type": "markdown",
   "metadata": {},
   "source": [
    "### 46. 全排列"
   ]
  },
  {
   "cell_type": "code",
   "execution_count": null,
   "metadata": {},
   "outputs": [],
   "source": [
    "from itertools import permutations\n",
    "class Solution:\n",
    "    def permute(self, nums: List[int]) -> List[List[int]]:\n",
    "        return list(permutations(nums))"
   ]
  },
  {
   "cell_type": "markdown",
   "metadata": {},
   "source": [
    "### 47. 全排列 II"
   ]
  },
  {
   "cell_type": "code",
   "execution_count": null,
   "metadata": {},
   "outputs": [],
   "source": [
    "class Solution:\n",
    "    def permuteUnique(self, nums: List[int]) -> List[List[int]]:\n",
    "        self.res = []\n",
    "        nums = sorted(nums)\n",
    "        self.dfs(nums,[])\n",
    "        return self.res \n",
    "\n",
    "    def dfs(self,nums,perm):\n",
    "        size = len(nums)\n",
    "        if size == 0:\n",
    "            self.res.append(perm)\n",
    "        else:\n",
    "            for i in range(size):\n",
    "                if i > 0 and nums[i] == nums[i - 1]:\n",
    "                    continue \n",
    "                self.dfs(nums[:i] + nums[i+1:],perm + [nums[i]])"
   ]
  }
 ],
 "metadata": {
  "kernelspec": {
   "display_name": "Python 3",
   "language": "python",
   "name": "python3"
  },
  "language_info": {
   "codemirror_mode": {
    "name": "ipython",
    "version": 3
   },
   "file_extension": ".py",
   "mimetype": "text/x-python",
   "name": "python",
   "nbconvert_exporter": "python",
   "pygments_lexer": "ipython3",
   "version": "3.7.7"
  }
 },
 "nbformat": 4,
 "nbformat_minor": 4
}
