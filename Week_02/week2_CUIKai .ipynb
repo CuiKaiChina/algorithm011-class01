{
 "cells": [
  {
   "cell_type": "markdown",
   "metadata": {},
   "source": [
    "### 242.有效的字母异位词"
   ]
  },
  {
   "cell_type": "code",
   "execution_count": null,
   "metadata": {},
   "outputs": [],
   "source": [
    "class Solution:\n",
    "    def isAnagram(self, s: str, t: str) -> bool:\n",
    "        return collections.Counter(s) == collections.Counter(t)"
   ]
  },
  {
   "cell_type": "markdown",
   "metadata": {},
   "source": [
    "### 1.两数之和"
   ]
  },
  {
   "cell_type": "code",
   "execution_count": null,
   "metadata": {},
   "outputs": [],
   "source": [
    "class Solution:\n",
    "    def twoSum(self, nums: List[int], target: int) -> List[int]:\n",
    "        dic = {}\n",
    "        for i,num in enumerate(nums):\n",
    "            if num in dic:\n",
    "                return [dic[num],i]\n",
    "            dic[target - num] = i"
   ]
  },
  {
   "cell_type": "markdown",
   "metadata": {},
   "source": [
    "### 589.N叉树的前序遍历"
   ]
  },
  {
   "cell_type": "code",
   "execution_count": null,
   "metadata": {},
   "outputs": [],
   "source": [
    "class Solution:\n",
    "    def preorder(self, root: 'Node') -> List[int]:\n",
    "        res = []\n",
    "        self.helper(root,res)\n",
    "        return res \n",
    "\n",
    "    def helper(self,root,res):\n",
    "        if root:\n",
    "            res.append(root.val)\n",
    "            for child in root.children:\n",
    "                self.helper(child,res)"
   ]
  },
  {
   "cell_type": "markdown",
   "metadata": {},
   "source": [
    "### 49. 字母异位词分组"
   ]
  },
  {
   "cell_type": "code",
   "execution_count": null,
   "metadata": {},
   "outputs": [],
   "source": [
    "class Solution:\n",
    "    def groupAnagrams(self, strs: List[str]) -> List[List[str]]:\n",
    "        dic = {}\n",
    "        for item in strs:\n",
    "            key = tuple(sorted(item))\n",
    "            dic[key] = dic.get(key,[]) + [item]\n",
    "        return list(dic.values())"
   ]
  },
  {
   "cell_type": "markdown",
   "metadata": {},
   "source": [
    "### 94. 二叉树的中序遍历"
   ]
  },
  {
   "cell_type": "code",
   "execution_count": null,
   "metadata": {},
   "outputs": [],
   "source": [
    "class Solution:\n",
    "    def inorderTraversal(self, root: TreeNode) -> List[int]:\n",
    "        # recursively \n",
    "        res = []\n",
    "        self.helper(root,res)\n",
    "        return res \n",
    "    \n",
    "    def helper(self,root,res):\n",
    "        if root:\n",
    "            self.helper(root.left,res)\n",
    "            res.append(root.val)\n",
    "            self.helper(root.right,res)\n",
    "            "
   ]
  },
  {
   "cell_type": "markdown",
   "metadata": {},
   "source": [
    "### 144.二叉树的前序遍历"
   ]
  },
  {
   "cell_type": "code",
   "execution_count": null,
   "metadata": {},
   "outputs": [],
   "source": [
    "class Solution:\n",
    "    def preorderTraversal(self, root: TreeNode) -> List[int]:\n",
    "        res = []\n",
    "        self.helper(root,res)\n",
    "        return res \n",
    "    \n",
    "    def helper(self,root,res):\n",
    "        if root:\n",
    "            res.append(root.val)\n",
    "            self.helper(root.left,res)\n",
    "            self.helper(root.right,res)\n"
   ]
  },
  {
   "cell_type": "markdown",
   "metadata": {},
   "source": [
    "### 429.N叉树的层序遍历"
   ]
  },
  {
   "cell_type": "code",
   "execution_count": null,
   "metadata": {},
   "outputs": [],
   "source": [
    "class Solution:\n",
    "    def levelOrder(self, root: 'Node') -> List[List[int]]:\n",
    "        q, res = [root],[]\n",
    "        while any(q):\n",
    "            res.append([node.val for node in q])\n",
    "            q = [child for node in q for child in node.children if child]\n",
    "        return res "
   ]
  },
  {
   "cell_type": "markdown",
   "metadata": {},
   "source": [
    "### 剑指 Offer 49. 丑数"
   ]
  },
  {
   "cell_type": "code",
   "execution_count": null,
   "metadata": {},
   "outputs": [],
   "source": [
    "import heapq\n",
    "class Solution:\n",
    "    def nthUglyNumber(self, n: int) -> int:\n",
    "        h = [(1, 1)]\n",
    "        for _ in range(n):\n",
    "            val, fact = heapq.heappop(h)\n",
    "            for x in 2, 3, 5:\n",
    "                if fact <= x:\n",
    "                    heapq.heappush(h, (val * x, x))\n",
    "        return val"
   ]
  },
  {
   "cell_type": "markdown",
   "metadata": {},
   "source": [
    "### 347. 前 K 个高频元素"
   ]
  },
  {
   "cell_type": "code",
   "execution_count": null,
   "metadata": {},
   "outputs": [],
   "source": [
    "import collections \n",
    "import heapq\n",
    "class Solution:\n",
    "    def topKFrequent(self, nums: List[int], k: int) -> List[int]:\n",
    "        count_num = collections.Counter(nums)\n",
    "        return heapq.nlargest(k,count_num,key = lambda x:count_num[x])"
   ]
  }
 ],
 "metadata": {
  "kernelspec": {
   "display_name": "Python 3",
   "language": "python",
   "name": "python3"
  },
  "language_info": {
   "codemirror_mode": {
    "name": "ipython",
    "version": 3
   },
   "file_extension": ".py",
   "mimetype": "text/x-python",
   "name": "python",
   "nbconvert_exporter": "python",
   "pygments_lexer": "ipython3",
   "version": "3.7.7"
  }
 },
 "nbformat": 4,
 "nbformat_minor": 4
}
