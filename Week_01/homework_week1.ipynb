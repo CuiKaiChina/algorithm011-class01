{
 "cells": [
  {
   "cell_type": "markdown",
   "metadata": {},
   "source": [
    "### 26. 删除排序数组中的重复项  "
   ]
  },
  {
   "cell_type": "code",
   "execution_count": null,
   "metadata": {},
   "outputs": [],
   "source": [
    "class Solution:\n",
    "    def removeDuplicates(self,nums：List[int])->int:\n",
    "        # 双指针\n",
    "        i = 0\n",
    "        for j in range(len(nums)):\n",
    "            if nums[i] != nums[j]:\n",
    "                i += 1\n",
    "                nums[i] = nums[j]\n",
    "        return i + 1"
   ]
  },
  {
   "cell_type": "markdown",
   "metadata": {},
   "source": [
    "### 189. 旋转数组"
   ]
  },
  {
   "cell_type": "code",
   "execution_count": 3,
   "metadata": {},
   "outputs": [],
   "source": [
    "class Solution:\n",
    "    def rotate(self, nums: List[int], k: int) -> None:\n",
    "        \"\"\"\n",
    "        Do not return anything, modify nums in-place instead.\n",
    "        \"\"\"\n",
    "        n = len(nums)\n",
    "        k = k % n\n",
    "        nums[:] = nums[n-k:] + nums[:n-k]"
   ]
  },
  {
   "cell_type": "markdown",
   "metadata": {},
   "source": [
    "### 21 合并俩个有序链表"
   ]
  },
  {
   "cell_type": "code",
   "execution_count": null,
   "metadata": {},
   "outputs": [],
   "source": [
    "# iteratively\n",
    "def mergeTwoLists(l1,l2):\n",
    "    dummy = cur = ListNode(0)\n",
    "    while l1 and l2:\n",
    "        if l1.val < l2.val:\n",
    "            cur.next = l1\n",
    "            l1 = l1.next \n",
    "        else:\n",
    "            cur.next = l2\n",
    "            l2 = l2.next \n",
    "        cur = cur.next \n",
    "    cur.next = l1 or l2\n",
    "    return dummy.next"
   ]
  },
  {
   "cell_type": "markdown",
   "metadata": {},
   "source": [
    "### 88.合并两个有序数组"
   ]
  },
  {
   "cell_type": "code",
   "execution_count": 4,
   "metadata": {},
   "outputs": [],
   "source": [
    "def merge(nums1,m,nums2,n):\n",
    "    while n > 0:\n",
    "        if m <= 0 or nums2[n-1] >= nums1[m-1]:\n",
    "            nums1[m+n-1] = nums2[n-1]\n",
    "            n -= 1\n",
    "        else:\n",
    "            nums1[m+n-1] = nums1[m-1]\n",
    "            m -= 1"
   ]
  },
  {
   "cell_type": "markdown",
   "metadata": {},
   "source": [
    "### 1 两数之和"
   ]
  },
  {
   "cell_type": "code",
   "execution_count": 5,
   "metadata": {},
   "outputs": [],
   "source": [
    "class Solution(object):\n",
    "    def twoSum(self, nums, target):\n",
    "        dic = {}\n",
    "        for i,num in enumerate(nums):\n",
    "            if num in dic:return [dic[num],i]\n",
    "            else:dic[target - num] = i"
   ]
  },
  {
   "cell_type": "markdown",
   "metadata": {},
   "source": [
    "### 283.移动零"
   ]
  },
  {
   "cell_type": "code",
   "execution_count": null,
   "metadata": {},
   "outputs": [],
   "source": [
    "class Solution:\n",
    "    def moveZeroes(self, nums: List[int]) -> None:\n",
    "        \"\"\"\n",
    "        Do not return anything, modify nums in-place instead.\n",
    "        \"\"\"\n",
    "        i = 0\n",
    "        for j in range(len(nums)):\n",
    "            if nums[j]:\n",
    "                nums[i], nums[j] = nums[j], nums[i]\n",
    "                i += 1"
   ]
  },
  {
   "cell_type": "markdown",
   "metadata": {},
   "source": [
    "### 66.加一"
   ]
  },
  {
   "cell_type": "code",
   "execution_count": null,
   "metadata": {},
   "outputs": [],
   "source": [
    "class Solution:\n",
    "    def plusOne(self, digits: List[int]) -> List[int]:\n",
    "   \n",
    "        num_str = \" \"\n",
    "        for i in digits:\n",
    "            num_str += str(i)\n",
    "\n",
    "        return list(map(int, str(int(num_str)+1)))"
   ]
  },
  {
   "cell_type": "markdown",
   "metadata": {},
   "source": [
    "### 641.设计循环双端队列"
   ]
  },
  {
   "cell_type": "code",
   "execution_count": 1,
   "metadata": {},
   "outputs": [],
   "source": [
    "class MyCircularDeque:\n",
    "\n",
    "    def __init__(self, k):\n",
    "        \"\"\"\n",
    "        Initialize your data structure here. Set the size of the deque to be k.\n",
    "        :type k: int\n",
    "        \"\"\"\n",
    "        self.size = 0 \n",
    "        self._front, self._rear = 0, 0 \n",
    "        self._capacity = k\n",
    "        self._data = [-1] * k    # 开辟 k 个大小的数组，Python 中为了申明一定长度数组的做法\n",
    "\n",
    "    def insertFront(self, value):\n",
    "        \"\"\"\n",
    "        Adds an item at the front of Deque. Return true if the operation is successful.\n",
    "        :type value: int\n",
    "        :rtype: bool\n",
    "        \"\"\"\n",
    "        if self.isFull():return False \n",
    "        if self.isEmpty():\n",
    "            self._data[self._front] = value \n",
    "        else:\n",
    "            self._front = (self._front - 1) % self._capacity\n",
    "            self._data[self._front] = value \n",
    "        self.size += 1\n",
    "        return True \n",
    "\n",
    "    def insertLast(self, value):\n",
    "        \"\"\"\n",
    "        Adds an item at the rear of Deque. Return true if the operation is successful.\n",
    "        :type value: int\n",
    "        :rtype: bool\n",
    "        \"\"\"\n",
    "        if self.isFull():return False \n",
    "        if self.isEmpty():\n",
    "            self._data[self._rear] = value \n",
    "        else:\n",
    "            self._rear = (self._rear + 1) % self._capacity\n",
    "            self._data[self._rear] = value \n",
    "        self.size += 1\n",
    "        return True \n",
    "\n",
    "    def deleteFront(self):\n",
    "        \"\"\"\n",
    "        Deletes an item from the front of Deque. Return true if the operation is successful.\n",
    "        :rtype: bool\n",
    "        \"\"\"\n",
    "        if self.isEmpty():return False \n",
    "        self._data[self._front] = -1 \n",
    "        self._front = (self._front + 1) % self._capacity\n",
    "        self.size -= 1\n",
    "        if self.isEmpty():\n",
    "            self._front = self._rear\n",
    "        return True \n",
    " \n",
    "    def deleteLast(self):\n",
    "        \"\"\"\n",
    "        Deletes an item from the rear of Deque. Return true if the operation is successful.\n",
    "        :rtype: bool\n",
    "        \"\"\"\n",
    "        if self.isEmpty():return False \n",
    "        self._data[self._rear] = -1 \n",
    "        self._rear = (self._rear - 1) % self._capacity\n",
    "        self.size -= 1\n",
    "        if self.isEmpty():\n",
    "            self._rear = self._front \n",
    "        return True \n",
    "        \n",
    "    def getFront(self):\n",
    "        return self._data[self._front]\n",
    "\n",
    "    def getRear(self):\n",
    "        \"\"\"\n",
    "        Get the last item from the deque.\n",
    "        :rtype: int\n",
    "        \"\"\"\n",
    "        return self._data[self._rear]\n",
    "\n",
    "    def isEmpty(self):\n",
    "        \"\"\"\n",
    "        Checks whether the circular deque is empty or not.\n",
    "        :rtype: bool\n",
    "        \"\"\"\n",
    "        return self.size == 0\n",
    "\n",
    "\n",
    "    def isFull(self):\n",
    "        \"\"\"\n",
    "        Checks whether the circular deque is full or not.\n",
    "        :rtype: bool\n",
    "        \"\"\"\n",
    "        return self.size == self._capacity"
   ]
  },
  {
   "cell_type": "markdown",
   "metadata": {},
   "source": [
    "### 42.接雨水"
   ]
  },
  {
   "cell_type": "code",
   "execution_count": null,
   "metadata": {},
   "outputs": [],
   "source": [
    "class Solution:\n",
    "    def trap(self, height: List[int]) -> int:\n",
    "        n = len(height)\n",
    "        max1, max2 = 0, 0 \n",
    "        s1, s2 = 0, 0 \n",
    "        for i in range(n):\n",
    "            max1, max2 = max(max1,height[i]), max(max2,height[n - i - 1])\n",
    "            s1 += max1\n",
    "            s2 += max2 \n",
    "            \n",
    "        res = s1 + s2 - n * max1 - sum(height)\n",
    "        return res \n"
   ]
  }
 ],
 "metadata": {
  "kernelspec": {
   "display_name": "Python 3",
   "language": "python",
   "name": "python3"
  },
  "language_info": {
   "codemirror_mode": {
    "name": "ipython",
    "version": 3
   },
   "file_extension": ".py",
   "mimetype": "text/x-python",
   "name": "python",
   "nbconvert_exporter": "python",
   "pygments_lexer": "ipython3",
   "version": "3.7.7"
  }
 },
 "nbformat": 4,
 "nbformat_minor": 4
}
